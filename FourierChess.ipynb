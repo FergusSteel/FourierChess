{
 "cells": [
  {
   "cell_type": "markdown",
   "metadata": {},
   "source": [
    "## Fourier Chess"
   ]
  },
  {
   "cell_type": "code",
   "execution_count": null,
   "metadata": {},
   "outputs": [],
   "source": [
    "import lichess\n",
    "\n",
    "client = lichess.Client()\n",
    "test_user = client.get_data(\"fergusks\")\n",
    "if test_user[\"perfs\"][\"rapid\"][\"rating\"] > 1300:\n",
    "    print(\"import successful (or I'm below 1300)\")"
   ]
  },
  {
   "cell_type": "code",
   "execution_count": null,
   "metadata": {},
   "outputs": [],
   "source": [
    "# Get games\n",
    "games = client.export_by_user(\"fergusks\")\n",
    "with open(\"games.pgn\", \"w\") as f:\n",
    "    f.write(games)\n",
    "f.close()\n"
   ]
  }
 ],
 "metadata": {
  "kernelspec": {
   "display_name": "Python 3",
   "language": "python",
   "name": "python3"
  },
  "language_info": {
   "codemirror_mode": {
    "name": "ipython",
    "version": 3
   },
   "file_extension": ".py",
   "mimetype": "text/x-python",
   "name": "python",
   "nbconvert_exporter": "python",
   "pygments_lexer": "ipython3",
   "version": "3.8.3"
  }
 },
 "nbformat": 4,
 "nbformat_minor": 4
}
